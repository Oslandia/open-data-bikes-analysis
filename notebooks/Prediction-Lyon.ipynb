{
 "cells": [
  {
   "cell_type": "markdown",
   "metadata": {},
   "source": [
    "# Bicycle-stations Availability Prediction"
   ]
  },
  {
   "cell_type": "markdown",
   "metadata": {},
   "source": [
    "Use a supervised machine learning algorithm to predict the availability for each bicyle-sharing stations in Lyon (France) based on the history data.\n",
    "\n",
    "I use the tree method [XGBoost](http://xgboost.readthedocs.io/en/latest/model.html) to predict a \"probability\" of bikes availability for each station. A number close to 1. means that you have several available bikes. A number close to 0. means you don't have many bikes."
   ]
  },
  {
   "cell_type": "markdown",
   "metadata": {},
   "source": [
    "## Some Imports"
   ]
  },
  {
   "cell_type": "code",
   "execution_count": 1,
   "metadata": {
    "collapsed": true
   },
   "outputs": [],
   "source": [
    "%matplotlib inline"
   ]
  },
  {
   "cell_type": "code",
   "execution_count": 2,
   "metadata": {
    "collapsed": true
   },
   "outputs": [],
   "source": [
    "import numpy as np\n",
    "import pandas as pd"
   ]
  },
  {
   "cell_type": "code",
   "execution_count": 3,
   "metadata": {},
   "outputs": [
    {
     "name": "stderr",
     "output_type": "stream",
     "text": [
      "/usr/local/lib/python3.5/dist-packages/sklearn/cross_validation.py:44: DeprecationWarning: This module was deprecated in version 0.18 in favor of the model_selection module into which all the refactored classes and functions are moved. Also note that the interface of the new CV iterators are different from that of this module. This module will be removed in 0.20.\n",
      "  \"This module will be removed in 0.20.\", DeprecationWarning)\n"
     ]
    }
   ],
   "source": [
    "import graphviz\n",
    "from xgboost import plot_tree, plot_importance, to_graphviz"
   ]
  },
  {
   "cell_type": "code",
   "execution_count": 36,
   "metadata": {
    "collapsed": true
   },
   "outputs": [],
   "source": [
    "import matplotlib as mpl\n",
    "from matplotlib import pyplot as plt\n",
    "\n",
    "import seaborn as sns"
   ]
  },
  {
   "cell_type": "code",
   "execution_count": 5,
   "metadata": {
    "collapsed": true
   },
   "outputs": [],
   "source": [
    "import folium"
   ]
  },
  {
   "cell_type": "code",
   "execution_count": 6,
   "metadata": {},
   "outputs": [],
   "source": [
    "%load_ext watermark"
   ]
  },
  {
   "cell_type": "code",
   "execution_count": 7,
   "metadata": {},
   "outputs": [
    {
     "name": "stdout",
     "output_type": "stream",
     "text": [
      "2017-11-21 \n",
      "\n",
      "CPython 3.5.2\n",
      "IPython 6.2.1\n",
      "\n",
      "numpy 1.13.3\n",
      "pandas 0.20.3\n",
      "xgboost 0.6\n",
      "matplotlib 2.0.2\n",
      "folium 0.5.0\n",
      "\n",
      "compiler   : GCC 5.4.0 20160609\n",
      "system     : Linux\n",
      "release    : 4.4.0-98-generic\n",
      "machine    : x86_64\n",
      "processor  : x86_64\n",
      "CPU cores  : 4\n",
      "interpreter: 64bit\n",
      "Git hash   : 76a0f9c3036c61ed1a02a2940baa00aad3339725\n",
      "watermark 1.5.0\n"
     ]
    }
   ],
   "source": [
    "%watermark -d -v -p numpy,pandas,xgboost,matplotlib,folium -g -m -w"
   ]
  },
  {
   "cell_type": "markdown",
   "metadata": {},
   "source": [
    "The module `prediction.py` contains some functions dedicated to the bicyle-sharing stations predictions."
   ]
  },
  {
   "cell_type": "code",
   "execution_count": 8,
   "metadata": {
    "collapsed": true
   },
   "outputs": [],
   "source": [
    "from sources.prediction import (datareader, complete_data, cleanup, bikes_probability,\n",
    "                        time_resampling, prepare_data_for_training, fit, prediction)"
   ]
  },
  {
   "cell_type": "markdown",
   "metadata": {},
   "source": [
    "## Read and prepare the data"
   ]
  },
  {
   "cell_type": "code",
   "execution_count": 9,
   "metadata": {
    "collapsed": true
   },
   "outputs": [],
   "source": [
    "DATAFILE = '../data/lyon.csv'"
   ]
  },
  {
   "cell_type": "code",
   "execution_count": 10,
   "metadata": {},
   "outputs": [
    {
     "name": "stderr",
     "output_type": "stream",
     "text": [
      "2017-11-21 08:29:02,352 [3555] INFO     prediction: read the file '../data/lyon.csv'\n"
     ]
    }
   ],
   "source": [
    "raw = datareader(DATAFILE)"
   ]
  },
  {
   "cell_type": "code",
   "execution_count": 11,
   "metadata": {},
   "outputs": [
    {
     "data": {
      "text/html": [
       "<div>\n",
       "<style>\n",
       "    .dataframe thead tr:only-child th {\n",
       "        text-align: right;\n",
       "    }\n",
       "\n",
       "    .dataframe thead th {\n",
       "        text-align: left;\n",
       "    }\n",
       "\n",
       "    .dataframe tbody tr th {\n",
       "        vertical-align: top;\n",
       "    }\n",
       "</style>\n",
       "<table border=\"1\" class=\"dataframe\">\n",
       "  <thead>\n",
       "    <tr style=\"text-align: right;\">\n",
       "      <th></th>\n",
       "      <th>number</th>\n",
       "      <th>last_update</th>\n",
       "      <th>bike_stands</th>\n",
       "      <th>available_bike_stands</th>\n",
       "      <th>available_bikes</th>\n",
       "      <th>availabilitycode</th>\n",
       "      <th>availability</th>\n",
       "      <th>bonus</th>\n",
       "      <th>status</th>\n",
       "    </tr>\n",
       "  </thead>\n",
       "  <tbody>\n",
       "    <tr>\n",
       "      <th>0</th>\n",
       "      <td>10063</td>\n",
       "      <td>2017-07-08 23:49:09</td>\n",
       "      <td>34</td>\n",
       "      <td>10</td>\n",
       "      <td>23</td>\n",
       "      <td>1</td>\n",
       "      <td>Vert</td>\n",
       "      <td>Non</td>\n",
       "      <td>OPEN</td>\n",
       "    </tr>\n",
       "    <tr>\n",
       "      <th>1</th>\n",
       "      <td>10021</td>\n",
       "      <td>2017-07-08 00:30:12</td>\n",
       "      <td>19</td>\n",
       "      <td>0</td>\n",
       "      <td>0</td>\n",
       "      <td>0</td>\n",
       "      <td>Gris</td>\n",
       "      <td>Non</td>\n",
       "      <td>CLOSED</td>\n",
       "    </tr>\n",
       "    <tr>\n",
       "      <th>2</th>\n",
       "      <td>8038</td>\n",
       "      <td>2017-07-08 23:49:26</td>\n",
       "      <td>20</td>\n",
       "      <td>6</td>\n",
       "      <td>14</td>\n",
       "      <td>1</td>\n",
       "      <td>Vert</td>\n",
       "      <td>Non</td>\n",
       "      <td>OPEN</td>\n",
       "    </tr>\n",
       "    <tr>\n",
       "      <th>3</th>\n",
       "      <td>7045</td>\n",
       "      <td>2017-07-08 23:52:43</td>\n",
       "      <td>20</td>\n",
       "      <td>13</td>\n",
       "      <td>7</td>\n",
       "      <td>1</td>\n",
       "      <td>Vert</td>\n",
       "      <td>Non</td>\n",
       "      <td>OPEN</td>\n",
       "    </tr>\n",
       "    <tr>\n",
       "      <th>4</th>\n",
       "      <td>6045</td>\n",
       "      <td>2017-07-08 23:52:14</td>\n",
       "      <td>15</td>\n",
       "      <td>7</td>\n",
       "      <td>8</td>\n",
       "      <td>1</td>\n",
       "      <td>Vert</td>\n",
       "      <td>Non</td>\n",
       "      <td>OPEN</td>\n",
       "    </tr>\n",
       "  </tbody>\n",
       "</table>\n",
       "</div>"
      ],
      "text/plain": [
       "   number         last_update  bike_stands  available_bike_stands  \\\n",
       "0   10063 2017-07-08 23:49:09           34                     10   \n",
       "1   10021 2017-07-08 00:30:12           19                      0   \n",
       "2    8038 2017-07-08 23:49:26           20                      6   \n",
       "3    7045 2017-07-08 23:52:43           20                     13   \n",
       "4    6045 2017-07-08 23:52:14           15                      7   \n",
       "\n",
       "   available_bikes  availabilitycode availability bonus  status  \n",
       "0               23                 1         Vert   Non    OPEN  \n",
       "1                0                 0         Gris   Non  CLOSED  \n",
       "2               14                 1         Vert   Non    OPEN  \n",
       "3                7                 1         Vert   Non    OPEN  \n",
       "4                8                 1         Vert   Non    OPEN  "
      ]
     },
     "execution_count": 11,
     "metadata": {},
     "output_type": "execute_result"
    }
   ],
   "source": [
    "raw.head()"
   ]
  },
  {
   "cell_type": "markdown",
   "metadata": {},
   "source": [
    "Min and max dates of the timeseries"
   ]
  },
  {
   "cell_type": "code",
   "execution_count": 12,
   "metadata": {},
   "outputs": [
    {
     "name": "stdout",
     "output_type": "stream",
     "text": [
      "2017-07-08 00:30:12\n",
      "2017-09-26 14:58:46\n"
     ]
    }
   ],
   "source": [
    "print(raw.last_update.min())\n",
    "print(raw.last_update.max())"
   ]
  },
  {
   "cell_type": "markdown",
   "metadata": {},
   "source": [
    "Clean up some columns : drop some lines with the 'CLOSED' status, drop duplicates, remove missing values, etc."
   ]
  },
  {
   "cell_type": "code",
   "execution_count": 13,
   "metadata": {},
   "outputs": [
    {
     "name": "stderr",
     "output_type": "stream",
     "text": [
      "2017-11-21 08:29:12,370 [3555] INFO     prediction: cleanup processing\n"
     ]
    }
   ],
   "source": [
    "df_clean = cleanup(raw)"
   ]
  },
  {
   "cell_type": "code",
   "execution_count": 14,
   "metadata": {},
   "outputs": [
    {
     "data": {
      "text/html": [
       "<div>\n",
       "<style>\n",
       "    .dataframe thead tr:only-child th {\n",
       "        text-align: right;\n",
       "    }\n",
       "\n",
       "    .dataframe thead th {\n",
       "        text-align: left;\n",
       "    }\n",
       "\n",
       "    .dataframe tbody tr th {\n",
       "        vertical-align: top;\n",
       "    }\n",
       "</style>\n",
       "<table border=\"1\" class=\"dataframe\">\n",
       "  <thead>\n",
       "    <tr style=\"text-align: right;\">\n",
       "      <th></th>\n",
       "      <th>station</th>\n",
       "      <th>ts</th>\n",
       "      <th>stands</th>\n",
       "      <th>bikes</th>\n",
       "      <th>bonus</th>\n",
       "    </tr>\n",
       "  </thead>\n",
       "  <tbody>\n",
       "    <tr>\n",
       "      <th>0</th>\n",
       "      <td>10063</td>\n",
       "      <td>2017-07-08 23:49:09</td>\n",
       "      <td>10</td>\n",
       "      <td>23</td>\n",
       "      <td>Non</td>\n",
       "    </tr>\n",
       "    <tr>\n",
       "      <th>2</th>\n",
       "      <td>8038</td>\n",
       "      <td>2017-07-08 23:49:26</td>\n",
       "      <td>6</td>\n",
       "      <td>14</td>\n",
       "      <td>Non</td>\n",
       "    </tr>\n",
       "    <tr>\n",
       "      <th>3</th>\n",
       "      <td>7045</td>\n",
       "      <td>2017-07-08 23:52:43</td>\n",
       "      <td>13</td>\n",
       "      <td>7</td>\n",
       "      <td>Non</td>\n",
       "    </tr>\n",
       "    <tr>\n",
       "      <th>4</th>\n",
       "      <td>6045</td>\n",
       "      <td>2017-07-08 23:52:14</td>\n",
       "      <td>7</td>\n",
       "      <td>8</td>\n",
       "      <td>Non</td>\n",
       "    </tr>\n",
       "    <tr>\n",
       "      <th>5</th>\n",
       "      <td>7062</td>\n",
       "      <td>2017-07-08 23:57:27</td>\n",
       "      <td>5</td>\n",
       "      <td>11</td>\n",
       "      <td>Non</td>\n",
       "    </tr>\n",
       "  </tbody>\n",
       "</table>\n",
       "</div>"
      ],
      "text/plain": [
       "   station                  ts  stands  bikes bonus\n",
       "0    10063 2017-07-08 23:49:09      10     23   Non\n",
       "2     8038 2017-07-08 23:49:26       6     14   Non\n",
       "3     7045 2017-07-08 23:52:43      13      7   Non\n",
       "4     6045 2017-07-08 23:52:14       7      8   Non\n",
       "5     7062 2017-07-08 23:57:27       5     11   Non"
      ]
     },
     "execution_count": 14,
     "metadata": {},
     "output_type": "execute_result"
    }
   ],
   "source": [
    "df_clean.head()"
   ]
  },
  {
   "cell_type": "markdown",
   "metadata": {},
   "source": [
    "Pipe some processing data functions :\n",
    "\n",
    "* time resampling to get data every 10 minutes (i.e. `10T`)\n",
    "* add some columns : day of the week, hour of the day, etc.\n",
    "* compute the bikes (number) \"probability\". It's just a normalization for each station with `num_avail_bikes / total`"
   ]
  },
  {
   "cell_type": "code",
   "execution_count": 15,
   "metadata": {},
   "outputs": [
    {
     "name": "stderr",
     "output_type": "stream",
     "text": [
      "2017-11-21 08:29:14,987 [3555] INFO     prediction: Time resampling for each station by '10T'\n",
      "2017-11-21 08:29:17,607 [3555] INFO     prediction: complete some data\n",
      "2017-11-21 08:29:53,638 [3555] INFO     prediction: bikes probability\n"
     ]
    }
   ],
   "source": [
    "df = (df_clean.pipe(time_resampling)\n",
    "      .pipe(complete_data)\n",
    "      .pipe(bikes_probability))"
   ]
  },
  {
   "cell_type": "code",
   "execution_count": 16,
   "metadata": {},
   "outputs": [
    {
     "data": {
      "text/html": [
       "<div>\n",
       "<style>\n",
       "    .dataframe thead tr:only-child th {\n",
       "        text-align: right;\n",
       "    }\n",
       "\n",
       "    .dataframe thead th {\n",
       "        text-align: left;\n",
       "    }\n",
       "\n",
       "    .dataframe tbody tr th {\n",
       "        vertical-align: top;\n",
       "    }\n",
       "</style>\n",
       "<table border=\"1\" class=\"dataframe\">\n",
       "  <thead>\n",
       "    <tr style=\"text-align: right;\">\n",
       "      <th></th>\n",
       "      <th>station</th>\n",
       "      <th>ts</th>\n",
       "      <th>bikes</th>\n",
       "      <th>stands</th>\n",
       "      <th>day</th>\n",
       "      <th>hour</th>\n",
       "      <th>minute</th>\n",
       "      <th>probability</th>\n",
       "    </tr>\n",
       "  </thead>\n",
       "  <tbody>\n",
       "    <tr>\n",
       "      <th>0</th>\n",
       "      <td>1001</td>\n",
       "      <td>2017-07-09 00:00:00</td>\n",
       "      <td>15.0</td>\n",
       "      <td>1.0</td>\n",
       "      <td>6</td>\n",
       "      <td>0</td>\n",
       "      <td>0</td>\n",
       "      <td>0.93750</td>\n",
       "    </tr>\n",
       "    <tr>\n",
       "      <th>1</th>\n",
       "      <td>1001</td>\n",
       "      <td>2017-07-09 00:10:00</td>\n",
       "      <td>15.0</td>\n",
       "      <td>1.0</td>\n",
       "      <td>6</td>\n",
       "      <td>0</td>\n",
       "      <td>0</td>\n",
       "      <td>0.93750</td>\n",
       "    </tr>\n",
       "    <tr>\n",
       "      <th>2</th>\n",
       "      <td>1001</td>\n",
       "      <td>2017-07-09 00:20:00</td>\n",
       "      <td>14.5</td>\n",
       "      <td>1.5</td>\n",
       "      <td>6</td>\n",
       "      <td>0</td>\n",
       "      <td>10</td>\n",
       "      <td>0.90625</td>\n",
       "    </tr>\n",
       "    <tr>\n",
       "      <th>3</th>\n",
       "      <td>1001</td>\n",
       "      <td>2017-07-09 00:30:00</td>\n",
       "      <td>14.5</td>\n",
       "      <td>1.5</td>\n",
       "      <td>6</td>\n",
       "      <td>0</td>\n",
       "      <td>20</td>\n",
       "      <td>0.90625</td>\n",
       "    </tr>\n",
       "    <tr>\n",
       "      <th>4</th>\n",
       "      <td>1001</td>\n",
       "      <td>2017-07-09 00:40:00</td>\n",
       "      <td>11.5</td>\n",
       "      <td>4.5</td>\n",
       "      <td>6</td>\n",
       "      <td>0</td>\n",
       "      <td>30</td>\n",
       "      <td>0.71875</td>\n",
       "    </tr>\n",
       "  </tbody>\n",
       "</table>\n",
       "</div>"
      ],
      "text/plain": [
       "   station                  ts  bikes  stands  day  hour  minute  probability\n",
       "0     1001 2017-07-09 00:00:00   15.0     1.0    6     0       0      0.93750\n",
       "1     1001 2017-07-09 00:10:00   15.0     1.0    6     0       0      0.93750\n",
       "2     1001 2017-07-09 00:20:00   14.5     1.5    6     0      10      0.90625\n",
       "3     1001 2017-07-09 00:30:00   14.5     1.5    6     0      20      0.90625\n",
       "4     1001 2017-07-09 00:40:00   11.5     4.5    6     0      30      0.71875"
      ]
     },
     "execution_count": 16,
     "metadata": {},
     "output_type": "execute_result"
    }
   ],
   "source": [
    "df.head()"
   ]
  },
  {
   "cell_type": "markdown",
   "metadata": {},
   "source": [
    "This is the final dataset. For further prediction, I could add some weather forecasts data to these features."
   ]
  },
  {
   "cell_type": "markdown",
   "metadata": {},
   "source": [
    "## Prediction"
   ]
  },
  {
   "cell_type": "markdown",
   "metadata": {},
   "source": [
    "Let's select a time window (start, stop) to a single prediction.\n",
    "\n",
    "* Two weeks of data for training\n",
    "* Predict the 'probability' for the next 30 minutes and 1 hour for every station.\n",
    "* Split the dataset into train and test dataset\n",
    "* Compute the RMSE (Root Mean Squared Error) between the observations (i.e. probability) and the predicted values"
   ]
  },
  {
   "cell_type": "code",
   "execution_count": 17,
   "metadata": {
    "collapsed": true
   },
   "outputs": [],
   "source": [
    "start = pd.Timestamp(\"2017-07-11T00:00:00\") # Tuesday\n",
    "predict_date = pd.Timestamp(\"2017-07-26T10:00:00\") # wednesday\n",
    "# predict the next 30 minutes\n",
    "freq = '30T'\n",
    "# number of predictions at 'predict_date'.\n",
    "# Here, the next 30 minutes and the next hour (30 minutes + 30 minutes).\n",
    "# If you want to predict the next 3 hours, every 30 minutes, thus set periods=6\n",
    "periods = 2"
   ]
  },
  {
   "cell_type": "code",
   "execution_count": 18,
   "metadata": {},
   "outputs": [
    {
     "name": "stderr",
     "output_type": "stream",
     "text": [
      "2017-11-21 08:29:53,864 [3555] INFO     prediction: prepare data for training\n",
      "2017-11-21 08:29:53,867 [3555] INFO     prediction: sort values (station, ts)\n",
      "2017-11-21 08:29:54,962 [3555] INFO     prediction: compute the future availability at '30T'\n",
      "2017-11-21 08:29:55,263 [3555] INFO     prediction: merge data with the future availability\n",
      "2017-11-21 08:30:34,518 [3555] INFO     prediction: availability label as values\n",
      "2017-11-21 08:30:34,774 [3555] INFO     prediction: cut date 2017-07-26 09:30:00\n",
      "2017-11-21 08:30:34,775 [3555] INFO     prediction: stop date 2017-07-26 11:00:00\n",
      "2017-11-21 08:30:34,776 [3555] INFO     prediction: split train and test according to a prediction date\n"
     ]
    }
   ],
   "source": [
    "train_X, train_Y, test_X, test_Y = prepare_data_for_training(df,\n",
    "                                                             predict_date,\n",
    "                                                             freq=freq,\n",
    "                                                             start=start,\n",
    "                                                             periods=periods,\n",
    "                                                             observation='probability')"
   ]
  },
  {
   "cell_type": "code",
   "execution_count": 19,
   "metadata": {},
   "outputs": [
    {
     "data": {
      "text/html": [
       "<div>\n",
       "<style>\n",
       "    .dataframe thead tr:only-child th {\n",
       "        text-align: right;\n",
       "    }\n",
       "\n",
       "    .dataframe thead th {\n",
       "        text-align: left;\n",
       "    }\n",
       "\n",
       "    .dataframe tbody tr th {\n",
       "        vertical-align: top;\n",
       "    }\n",
       "</style>\n",
       "<table border=\"1\" class=\"dataframe\">\n",
       "  <thead>\n",
       "    <tr style=\"text-align: right;\">\n",
       "      <th></th>\n",
       "      <th>station</th>\n",
       "      <th>bikes</th>\n",
       "      <th>stands</th>\n",
       "      <th>day</th>\n",
       "      <th>hour</th>\n",
       "      <th>minute</th>\n",
       "    </tr>\n",
       "    <tr>\n",
       "      <th>ts</th>\n",
       "      <th></th>\n",
       "      <th></th>\n",
       "      <th></th>\n",
       "      <th></th>\n",
       "      <th></th>\n",
       "      <th></th>\n",
       "    </tr>\n",
       "  </thead>\n",
       "  <tbody>\n",
       "    <tr>\n",
       "      <th>2017-07-11</th>\n",
       "      <td>1001</td>\n",
       "      <td>12.0</td>\n",
       "      <td>1.0</td>\n",
       "      <td>1</td>\n",
       "      <td>0</td>\n",
       "      <td>0</td>\n",
       "    </tr>\n",
       "    <tr>\n",
       "      <th>2017-07-11</th>\n",
       "      <td>1002</td>\n",
       "      <td>6.0</td>\n",
       "      <td>15.5</td>\n",
       "      <td>1</td>\n",
       "      <td>0</td>\n",
       "      <td>0</td>\n",
       "    </tr>\n",
       "    <tr>\n",
       "      <th>2017-07-11</th>\n",
       "      <td>1003</td>\n",
       "      <td>14.0</td>\n",
       "      <td>1.0</td>\n",
       "      <td>1</td>\n",
       "      <td>0</td>\n",
       "      <td>0</td>\n",
       "    </tr>\n",
       "    <tr>\n",
       "      <th>2017-07-11</th>\n",
       "      <td>1005</td>\n",
       "      <td>1.0</td>\n",
       "      <td>9.0</td>\n",
       "      <td>1</td>\n",
       "      <td>0</td>\n",
       "      <td>0</td>\n",
       "    </tr>\n",
       "    <tr>\n",
       "      <th>2017-07-11</th>\n",
       "      <td>1006</td>\n",
       "      <td>4.5</td>\n",
       "      <td>17.5</td>\n",
       "      <td>1</td>\n",
       "      <td>0</td>\n",
       "      <td>0</td>\n",
       "    </tr>\n",
       "  </tbody>\n",
       "</table>\n",
       "</div>"
      ],
      "text/plain": [
       "            station  bikes  stands  day  hour  minute\n",
       "ts                                                   \n",
       "2017-07-11     1001   12.0     1.0    1     0       0\n",
       "2017-07-11     1002    6.0    15.5    1     0       0\n",
       "2017-07-11     1003   14.0     1.0    1     0       0\n",
       "2017-07-11     1005    1.0     9.0    1     0       0\n",
       "2017-07-11     1006    4.5    17.5    1     0       0"
      ]
     },
     "execution_count": 19,
     "metadata": {},
     "output_type": "execute_result"
    }
   ],
   "source": [
    "train_X.head()"
   ]
  },
  {
   "cell_type": "code",
   "execution_count": 20,
   "metadata": {},
   "outputs": [
    {
     "data": {
      "text/plain": [
       "ts\n",
       "2017-07-11    0.923077\n",
       "2017-07-11    0.295455\n",
       "2017-07-11    0.933333\n",
       "2017-07-11    0.100000\n",
       "2017-07-11    0.227273\n",
       "Name: future, dtype: float64"
      ]
     },
     "execution_count": 20,
     "metadata": {},
     "output_type": "execute_result"
    }
   ],
   "source": [
    "# Observation with a shift of T+30 minutes in comparison to train_X.\n",
    "# This is the 'future' availability used for traning.\n",
    "train_Y.head()"
   ]
  },
  {
   "cell_type": "code",
   "execution_count": 21,
   "metadata": {},
   "outputs": [
    {
     "data": {
      "text/html": [
       "<div>\n",
       "<style>\n",
       "    .dataframe thead tr:only-child th {\n",
       "        text-align: right;\n",
       "    }\n",
       "\n",
       "    .dataframe thead th {\n",
       "        text-align: left;\n",
       "    }\n",
       "\n",
       "    .dataframe tbody tr th {\n",
       "        vertical-align: top;\n",
       "    }\n",
       "</style>\n",
       "<table border=\"1\" class=\"dataframe\">\n",
       "  <thead>\n",
       "    <tr style=\"text-align: right;\">\n",
       "      <th></th>\n",
       "      <th>station</th>\n",
       "      <th>bikes</th>\n",
       "      <th>stands</th>\n",
       "      <th>day</th>\n",
       "      <th>hour</th>\n",
       "      <th>minute</th>\n",
       "    </tr>\n",
       "    <tr>\n",
       "      <th>ts</th>\n",
       "      <th></th>\n",
       "      <th></th>\n",
       "      <th></th>\n",
       "      <th></th>\n",
       "      <th></th>\n",
       "      <th></th>\n",
       "    </tr>\n",
       "  </thead>\n",
       "  <tbody>\n",
       "    <tr>\n",
       "      <th>2017-07-11 01:30:00</th>\n",
       "      <td>7022</td>\n",
       "      <td>12.0</td>\n",
       "      <td>17.0</td>\n",
       "      <td>1</td>\n",
       "      <td>1</td>\n",
       "      <td>20</td>\n",
       "    </tr>\n",
       "    <tr>\n",
       "      <th>2017-07-11 01:30:00</th>\n",
       "      <td>7023</td>\n",
       "      <td>12.5</td>\n",
       "      <td>1.5</td>\n",
       "      <td>1</td>\n",
       "      <td>1</td>\n",
       "      <td>20</td>\n",
       "    </tr>\n",
       "    <tr>\n",
       "      <th>2017-07-11 01:30:00</th>\n",
       "      <td>7024</td>\n",
       "      <td>5.0</td>\n",
       "      <td>11.0</td>\n",
       "      <td>1</td>\n",
       "      <td>1</td>\n",
       "      <td>20</td>\n",
       "    </tr>\n",
       "    <tr>\n",
       "      <th>2017-07-11 01:30:00</th>\n",
       "      <td>7030</td>\n",
       "      <td>10.0</td>\n",
       "      <td>19.0</td>\n",
       "      <td>1</td>\n",
       "      <td>1</td>\n",
       "      <td>20</td>\n",
       "    </tr>\n",
       "    <tr>\n",
       "      <th>2017-07-11 01:30:00</th>\n",
       "      <td>7031</td>\n",
       "      <td>15.0</td>\n",
       "      <td>5.0</td>\n",
       "      <td>1</td>\n",
       "      <td>1</td>\n",
       "      <td>20</td>\n",
       "    </tr>\n",
       "    <tr>\n",
       "      <th>2017-07-11 01:30:00</th>\n",
       "      <td>7033</td>\n",
       "      <td>10.0</td>\n",
       "      <td>18.0</td>\n",
       "      <td>1</td>\n",
       "      <td>1</td>\n",
       "      <td>20</td>\n",
       "    </tr>\n",
       "    <tr>\n",
       "      <th>2017-07-11 01:30:00</th>\n",
       "      <td>7034</td>\n",
       "      <td>9.0</td>\n",
       "      <td>6.0</td>\n",
       "      <td>1</td>\n",
       "      <td>1</td>\n",
       "      <td>20</td>\n",
       "    </tr>\n",
       "    <tr>\n",
       "      <th>2017-07-11 01:30:00</th>\n",
       "      <td>7035</td>\n",
       "      <td>17.0</td>\n",
       "      <td>12.0</td>\n",
       "      <td>1</td>\n",
       "      <td>1</td>\n",
       "      <td>20</td>\n",
       "    </tr>\n",
       "    <tr>\n",
       "      <th>2017-07-11 01:30:00</th>\n",
       "      <td>7038</td>\n",
       "      <td>11.0</td>\n",
       "      <td>2.0</td>\n",
       "      <td>1</td>\n",
       "      <td>1</td>\n",
       "      <td>20</td>\n",
       "    </tr>\n",
       "    <tr>\n",
       "      <th>2017-07-11 01:30:00</th>\n",
       "      <td>7039</td>\n",
       "      <td>8.0</td>\n",
       "      <td>1.0</td>\n",
       "      <td>1</td>\n",
       "      <td>1</td>\n",
       "      <td>20</td>\n",
       "    </tr>\n",
       "  </tbody>\n",
       "</table>\n",
       "</div>"
      ],
      "text/plain": [
       "                     station  bikes  stands  day  hour  minute\n",
       "ts                                                            \n",
       "2017-07-11 01:30:00     7022   12.0    17.0    1     1      20\n",
       "2017-07-11 01:30:00     7023   12.5     1.5    1     1      20\n",
       "2017-07-11 01:30:00     7024    5.0    11.0    1     1      20\n",
       "2017-07-11 01:30:00     7030   10.0    19.0    1     1      20\n",
       "2017-07-11 01:30:00     7031   15.0     5.0    1     1      20\n",
       "2017-07-11 01:30:00     7033   10.0    18.0    1     1      20\n",
       "2017-07-11 01:30:00     7034    9.0     6.0    1     1      20\n",
       "2017-07-11 01:30:00     7035   17.0    12.0    1     1      20\n",
       "2017-07-11 01:30:00     7038   11.0     2.0    1     1      20\n",
       "2017-07-11 01:30:00     7039    8.0     1.0    1     1      20"
      ]
     },
     "execution_count": 21,
     "metadata": {},
     "output_type": "execute_result"
    }
   ],
   "source": [
    "train_X.iloc[3200:3210]"
   ]
  },
  {
   "cell_type": "code",
   "execution_count": 67,
   "metadata": {},
   "outputs": [
    {
     "name": "stdout",
     "output_type": "stream",
     "text": [
      "                     station  bikes  stands  day  hour  minute\n",
      "ts                                                            \n",
      "2017-07-26 09:30:00    11001    8.0    10.0    2     9      20\n",
      "2017-07-26 09:30:00    11002    5.0    15.0    2     9      20\n",
      "2017-07-26 09:30:00    11003   11.0     9.0    2     9      20\n",
      "2017-07-26 09:30:00    12001   14.0    10.0    2     9      20\n",
      "2017-07-26 09:30:00    12002    2.0    17.0    2     9      20\n",
      "                     station  bikes  stands  day  hour  minute\n",
      "ts                                                            \n",
      "2017-07-26 10:00:00     1001    2.0    14.0    2    10       0\n",
      "2017-07-26 10:00:00     1002    8.0    14.0    2    10       0\n",
      "2017-07-26 10:00:00     1003    2.0    13.0    2    10       0\n",
      "2017-07-26 10:00:00     1005    2.0     8.0    2    10       0\n",
      "2017-07-26 10:00:00     1006    2.0    19.0    2    10       0\n"
     ]
    }
   ],
   "source": [
    "print(train_X.tail())\n",
    "print(test_X.head())"
   ]
  },
  {
   "cell_type": "markdown",
   "metadata": {},
   "source": [
    "The `fit` function create some data structure for the XGBoost from the train and test DataFrames (i.e. `xgb.DMatrix)`, configure the model and launch it with the `objective: 'reg:logistic'`. It's a regression, not a classification."
   ]
  },
  {
   "cell_type": "code",
   "execution_count": 22,
   "metadata": {},
   "outputs": [
    {
     "name": "stderr",
     "output_type": "stream",
     "text": [
      "2017-11-21 08:30:35,140 [3555] INFO     prediction: fit\n"
     ]
    },
    {
     "name": "stdout",
     "output_type": "stream",
     "text": [
      "[0]\ttrain-rmse:0.270776\ttest-rmse:0.268568\n",
      "[1]\ttrain-rmse:0.225618\ttest-rmse:0.223802\n",
      "[2]\ttrain-rmse:0.190967\ttest-rmse:0.189405\n",
      "[3]\ttrain-rmse:0.164578\ttest-rmse:0.163102\n",
      "[4]\ttrain-rmse:0.144765\ttest-rmse:0.143265\n",
      "[5]\ttrain-rmse:0.130189\ttest-rmse:0.128437\n",
      "[6]\ttrain-rmse:0.119687\ttest-rmse:0.117735\n",
      "[7]\ttrain-rmse:0.112251\ttest-rmse:0.110114\n",
      "[8]\ttrain-rmse:0.10707\ttest-rmse:0.104776\n",
      "[9]\ttrain-rmse:0.103513\ttest-rmse:0.101137\n",
      "[10]\ttrain-rmse:0.101105\ttest-rmse:0.098539\n",
      "[11]\ttrain-rmse:0.099469\ttest-rmse:0.096903\n",
      "[12]\ttrain-rmse:0.098367\ttest-rmse:0.095646\n",
      "[13]\ttrain-rmse:0.097618\ttest-rmse:0.094834\n",
      "[14]\ttrain-rmse:0.097077\ttest-rmse:0.094302\n",
      "[15]\ttrain-rmse:0.096731\ttest-rmse:0.093938\n",
      "[16]\ttrain-rmse:0.096451\ttest-rmse:0.093531\n",
      "[17]\ttrain-rmse:0.09623\ttest-rmse:0.093313\n",
      "[18]\ttrain-rmse:0.096052\ttest-rmse:0.093146\n",
      "[19]\ttrain-rmse:0.095933\ttest-rmse:0.093115\n",
      "[20]\ttrain-rmse:0.095802\ttest-rmse:0.09304\n",
      "[21]\ttrain-rmse:0.095664\ttest-rmse:0.092992\n",
      "[22]\ttrain-rmse:0.095555\ttest-rmse:0.092876\n",
      "[23]\ttrain-rmse:0.095471\ttest-rmse:0.092851\n",
      "[24]\ttrain-rmse:0.095366\ttest-rmse:0.092801\n"
     ]
    }
   ],
   "source": [
    "# the 'booster'\n",
    "bst, train_prg = fit(train_X, train_Y, test_X, test_Y)"
   ]
  },
  {
   "cell_type": "code",
   "execution_count": 42,
   "metadata": {
    "collapsed": true
   },
   "outputs": [
    {
     "ename": "KeyError",
     "evalue": "'rmse'",
     "output_type": "error",
     "traceback": [
      "\u001b[0;31m---------------------------------------------------------------------------\u001b[0m",
      "\u001b[0;31mTypeError\u001b[0m                                 Traceback (most recent call last)",
      "\u001b[0;32mpandas/_libs/index.pyx\u001b[0m in \u001b[0;36mpandas._libs.index.IndexEngine.get_loc (pandas/_libs/index.c:5126)\u001b[0;34m()\u001b[0m\n",
      "\u001b[0;32mpandas/_libs/hashtable_class_helper.pxi\u001b[0m in \u001b[0;36mpandas._libs.hashtable.Int64HashTable.get_item (pandas/_libs/hashtable.c:14010)\u001b[0;34m()\u001b[0m\n",
      "\u001b[0;31mTypeError\u001b[0m: an integer is required",
      "\nDuring handling of the above exception, another exception occurred:\n",
      "\u001b[0;31mKeyError\u001b[0m                                  Traceback (most recent call last)",
      "\u001b[0;32m<ipython-input-42-fc659864d11e>\u001b[0m in \u001b[0;36m<module>\u001b[0;34m()\u001b[0m\n\u001b[0;32m----> 1\u001b[0;31m \u001b[0mtrain_prg\u001b[0m \u001b[0;34m=\u001b[0m \u001b[0mpd\u001b[0m\u001b[0;34m.\u001b[0m\u001b[0mDataFrame\u001b[0m\u001b[0;34m(\u001b[0m\u001b[0;34m{\u001b[0m\u001b[0;34m\"train\"\u001b[0m\u001b[0;34m:\u001b[0m \u001b[0mtrain_prg\u001b[0m\u001b[0;34m[\u001b[0m\u001b[0;34m\"train\"\u001b[0m\u001b[0;34m]\u001b[0m\u001b[0;34m[\u001b[0m\u001b[0;34m'rmse'\u001b[0m\u001b[0;34m]\u001b[0m\u001b[0;34m,\u001b[0m \u001b[0;34m\"test\"\u001b[0m\u001b[0;34m:\u001b[0m \u001b[0mtrain_prg\u001b[0m\u001b[0;34m[\u001b[0m\u001b[0;34m\"test\"\u001b[0m\u001b[0;34m]\u001b[0m\u001b[0;34m[\u001b[0m\u001b[0;34m'rmse'\u001b[0m\u001b[0;34m]\u001b[0m\u001b[0;34m}\u001b[0m\u001b[0;34m)\u001b[0m\u001b[0;34m\u001b[0m\u001b[0m\n\u001b[0m\u001b[1;32m      2\u001b[0m \u001b[0mtrain_prg\u001b[0m\u001b[0;34m\u001b[0m\u001b[0m\n",
      "\u001b[0;32m/usr/local/lib/python3.5/dist-packages/pandas/core/series.py\u001b[0m in \u001b[0;36m__getitem__\u001b[0;34m(self, key)\u001b[0m\n\u001b[1;32m    599\u001b[0m         \u001b[0mkey\u001b[0m \u001b[0;34m=\u001b[0m \u001b[0mcom\u001b[0m\u001b[0;34m.\u001b[0m\u001b[0m_apply_if_callable\u001b[0m\u001b[0;34m(\u001b[0m\u001b[0mkey\u001b[0m\u001b[0;34m,\u001b[0m \u001b[0mself\u001b[0m\u001b[0;34m)\u001b[0m\u001b[0;34m\u001b[0m\u001b[0m\n\u001b[1;32m    600\u001b[0m         \u001b[0;32mtry\u001b[0m\u001b[0;34m:\u001b[0m\u001b[0;34m\u001b[0m\u001b[0m\n\u001b[0;32m--> 601\u001b[0;31m             \u001b[0mresult\u001b[0m \u001b[0;34m=\u001b[0m \u001b[0mself\u001b[0m\u001b[0;34m.\u001b[0m\u001b[0mindex\u001b[0m\u001b[0;34m.\u001b[0m\u001b[0mget_value\u001b[0m\u001b[0;34m(\u001b[0m\u001b[0mself\u001b[0m\u001b[0;34m,\u001b[0m \u001b[0mkey\u001b[0m\u001b[0;34m)\u001b[0m\u001b[0;34m\u001b[0m\u001b[0m\n\u001b[0m\u001b[1;32m    602\u001b[0m \u001b[0;34m\u001b[0m\u001b[0m\n\u001b[1;32m    603\u001b[0m             \u001b[0;32mif\u001b[0m \u001b[0;32mnot\u001b[0m \u001b[0mis_scalar\u001b[0m\u001b[0;34m(\u001b[0m\u001b[0mresult\u001b[0m\u001b[0;34m)\u001b[0m\u001b[0;34m:\u001b[0m\u001b[0;34m\u001b[0m\u001b[0m\n",
      "\u001b[0;32m/usr/local/lib/python3.5/dist-packages/pandas/core/indexes/base.py\u001b[0m in \u001b[0;36mget_value\u001b[0;34m(self, series, key)\u001b[0m\n\u001b[1;32m   2475\u001b[0m         \u001b[0;32mtry\u001b[0m\u001b[0;34m:\u001b[0m\u001b[0;34m\u001b[0m\u001b[0m\n\u001b[1;32m   2476\u001b[0m             return self._engine.get_value(s, k,\n\u001b[0;32m-> 2477\u001b[0;31m                                           tz=getattr(series.dtype, 'tz', None))\n\u001b[0m\u001b[1;32m   2478\u001b[0m         \u001b[0;32mexcept\u001b[0m \u001b[0mKeyError\u001b[0m \u001b[0;32mas\u001b[0m \u001b[0me1\u001b[0m\u001b[0;34m:\u001b[0m\u001b[0;34m\u001b[0m\u001b[0m\n\u001b[1;32m   2479\u001b[0m             \u001b[0;32mif\u001b[0m \u001b[0mlen\u001b[0m\u001b[0;34m(\u001b[0m\u001b[0mself\u001b[0m\u001b[0;34m)\u001b[0m \u001b[0;34m>\u001b[0m \u001b[0;36m0\u001b[0m \u001b[0;32mand\u001b[0m \u001b[0mself\u001b[0m\u001b[0;34m.\u001b[0m\u001b[0minferred_type\u001b[0m \u001b[0;32min\u001b[0m \u001b[0;34m[\u001b[0m\u001b[0;34m'integer'\u001b[0m\u001b[0;34m,\u001b[0m \u001b[0;34m'boolean'\u001b[0m\u001b[0;34m]\u001b[0m\u001b[0;34m:\u001b[0m\u001b[0;34m\u001b[0m\u001b[0m\n",
      "\u001b[0;32mpandas/_libs/index.pyx\u001b[0m in \u001b[0;36mpandas._libs.index.IndexEngine.get_value (pandas/_libs/index.c:4404)\u001b[0;34m()\u001b[0m\n",
      "\u001b[0;32mpandas/_libs/index.pyx\u001b[0m in \u001b[0;36mpandas._libs.index.IndexEngine.get_value (pandas/_libs/index.c:4087)\u001b[0;34m()\u001b[0m\n",
      "\u001b[0;32mpandas/_libs/index.pyx\u001b[0m in \u001b[0;36mpandas._libs.index.IndexEngine.get_loc (pandas/_libs/index.c:5210)\u001b[0;34m()\u001b[0m\n",
      "\u001b[0;31mKeyError\u001b[0m: 'rmse'"
     ]
    }
   ],
   "source": [
    "train_prg = pd.DataFrame({\"train\": train_prg[\"train\"]['rmse'], \"test\": train_prg[\"test\"]['rmse']})"
   ]
  },
  {
   "cell_type": "code",
   "execution_count": 45,
   "metadata": {},
   "outputs": [
    {
     "data": {
      "image/png": "[encoded data removed]",
      "text/plain": [
       "<matplotlib.figure.Figure at 0x7fe0fbed4828>"
      ]
     },
     "metadata": {},
     "output_type": "display_data"
    }
   ],
   "source": [
    "colors = sns.color_palette('Set1', 2)\n",
    "sns.palplot(colors)"
   ]
  },
  {
   "cell_type": "code",
   "execution_count": 54,
   "metadata": {},
   "outputs": [
    {
     "name": "stdout",
     "output_type": "stream",
     "text": [
      "[ 0.268568  0.223802  0.189405  0.163102  0.143265  0.128437  0.117735\n",
      "  0.110114  0.104776  0.101137  0.098539  0.096903  0.095646  0.094834\n",
      "  0.094302  0.093938  0.093531  0.093313  0.093146  0.093115  0.09304\n",
      "  0.092992  0.092876  0.092851  0.092801]\n",
      "[ 0.270776  0.225618  0.190967  0.164578  0.144765  0.130189  0.119687\n",
      "  0.112251  0.10707   0.103513  0.101105  0.099469  0.098367  0.097618\n",
      "  0.097077  0.096731  0.096451  0.09623   0.096052  0.095933  0.095802\n",
      "  0.095664  0.095555  0.095471  0.095366]\n"
     ]
    },
    {
     "data": {
      "image/png": "[encoded data removed]",
      "text/plain": [
       "<matplotlib.figure.Figure at 0x7fe0fbbd1c50>"
      ]
     },
     "metadata": {},
     "output_type": "display_data"
    }
   ],
   "source": [
    "with sns.axes_style(\"darkgrid\", {'xtick.major.size': 8.0}):\n",
    "    fig, ax = plt.subplots(figsize=(10,6))\n",
    "\n",
    "for k, label, color in zip(train_prg.values.T, range(2), colors):\n",
    "    print(k)\n",
    "    plt.plot(100*k, color=color, label=label)\n",
    "    \n",
    "plt.legend(train_prg.columns)\n",
    "plt.xlabel('XGBoost iteration')\n",
    "plt.ylabel(\"Error (%)\")\n",
    "plt.xticks(np.linspace(0, 25, 6))\n",
    "plt.yticks(np.linspace(0, 30, 6))\n",
    "sns.despine()\n",
    "plt.tight_layout()\n",
    "plt.savefig(\"../images/lyon_prediction_training_curves.png\")"
   ]
  },
  {
   "cell_type": "code",
   "execution_count": 56,
   "metadata": {
    "collapsed": true
   },
   "outputs": [],
   "source": [
    "# compute the prediction from test_*\n",
    "pred = prediction(bst, test_X, test_Y)"
   ]
  },
  {
   "cell_type": "code",
   "execution_count": 57,
   "metadata": {},
   "outputs": [
    {
     "data": {
      "text/plain": [
       "array([ 0.14073603,  0.35851732,  0.14599429,  0.22701427,  0.10939126], dtype=float32)"
      ]
     },
     "execution_count": 57,
     "metadata": {},
     "output_type": "execute_result"
    }
   ],
   "source": [
    "pred[:5]"
   ]
  },
  {
   "cell_type": "code",
   "execution_count": 58,
   "metadata": {},
   "outputs": [
    {
     "name": "stdout",
     "output_type": "stream",
     "text": [
      "Number of predictions: 2359\n"
     ]
    }
   ],
   "source": [
    "print(\"Number of predictions: {}\".format(len(pred)))"
   ]
  },
  {
   "cell_type": "code",
   "execution_count": 59,
   "metadata": {},
   "outputs": [
    {
     "data": {
      "text/plain": [
       "0.092800839182041447"
      ]
     },
     "execution_count": 59,
     "metadata": {},
     "output_type": "execute_result"
    }
   ],
   "source": [
    "# Compute the RMSE\n",
    "rmse = np.sqrt(np.mean((pred - test_Y)**2))\n",
    "rmse"
   ]
  },
  {
   "cell_type": "code",
   "execution_count": 60,
   "metadata": {
    "collapsed": true
   },
   "outputs": [],
   "source": [
    "# must install graphviz\n",
    "# plot_tree(bst)"
   ]
  },
  {
   "cell_type": "markdown",
   "metadata": {},
   "source": [
    "## Store the results"
   ]
  },
  {
   "cell_type": "code",
   "execution_count": 61,
   "metadata": {
    "collapsed": true
   },
   "outputs": [],
   "source": [
    "result = test_X.copy()\n",
    "result['ts_future'] = test_Y.index.shift(1, freq=freq)\n",
    "\n",
    "result['observation'] = test_Y.copy()\n",
    "result['ts_future'] = test_Y.index.shift(1, freq=freq)\n",
    "result['prediction'] = pred\n",
    "result['error'] = pred - test_Y\n",
    "result['relative_error'] = 100. * np.abs(pred - test_Y) / test_Y\n",
    "result['quad_error'] = (pred - test_Y)**2\n",
    "result.to_csv(\"prediction-freq-{}-{}.csv\".format(freq, predict_date))"
   ]
  },
  {
   "cell_type": "code",
   "execution_count": 62,
   "metadata": {},
   "outputs": [
    {
     "data": {
      "text/html": [
       "<div>\n",
       "<style>\n",
       "    .dataframe thead tr:only-child th {\n",
       "        text-align: right;\n",
       "    }\n",
       "\n",
       "    .dataframe thead th {\n",
       "        text-align: left;\n",
       "    }\n",
       "\n",
       "    .dataframe tbody tr th {\n",
       "        vertical-align: top;\n",
       "    }\n",
       "</style>\n",
       "<table border=\"1\" class=\"dataframe\">\n",
       "  <thead>\n",
       "    <tr style=\"text-align: right;\">\n",
       "      <th></th>\n",
       "      <th>station</th>\n",
       "      <th>bikes</th>\n",
       "      <th>stands</th>\n",
       "      <th>day</th>\n",
       "      <th>hour</th>\n",
       "      <th>minute</th>\n",
       "      <th>ts_future</th>\n",
       "      <th>observation</th>\n",
       "      <th>prediction</th>\n",
       "      <th>error</th>\n",
       "      <th>relative_error</th>\n",
       "      <th>quad_error</th>\n",
       "    </tr>\n",
       "    <tr>\n",
       "      <th>ts</th>\n",
       "      <th></th>\n",
       "      <th></th>\n",
       "      <th></th>\n",
       "      <th></th>\n",
       "      <th></th>\n",
       "      <th></th>\n",
       "      <th></th>\n",
       "      <th></th>\n",
       "      <th></th>\n",
       "      <th></th>\n",
       "      <th></th>\n",
       "      <th></th>\n",
       "    </tr>\n",
       "  </thead>\n",
       "  <tbody>\n",
       "    <tr>\n",
       "      <th>2017-07-26 10:00:00</th>\n",
       "      <td>1001</td>\n",
       "      <td>2.0</td>\n",
       "      <td>14.0</td>\n",
       "      <td>2</td>\n",
       "      <td>10</td>\n",
       "      <td>0</td>\n",
       "      <td>2017-07-26 10:30:00</td>\n",
       "      <td>0.375000</td>\n",
       "      <td>0.140736</td>\n",
       "      <td>-0.234264</td>\n",
       "      <td>62.470392</td>\n",
       "      <td>0.054880</td>\n",
       "    </tr>\n",
       "    <tr>\n",
       "      <th>2017-07-26 10:00:00</th>\n",
       "      <td>1002</td>\n",
       "      <td>8.0</td>\n",
       "      <td>14.0</td>\n",
       "      <td>2</td>\n",
       "      <td>10</td>\n",
       "      <td>0</td>\n",
       "      <td>2017-07-26 10:30:00</td>\n",
       "      <td>0.255814</td>\n",
       "      <td>0.358517</td>\n",
       "      <td>0.102703</td>\n",
       "      <td>40.147679</td>\n",
       "      <td>0.010548</td>\n",
       "    </tr>\n",
       "    <tr>\n",
       "      <th>2017-07-26 10:00:00</th>\n",
       "      <td>1003</td>\n",
       "      <td>2.0</td>\n",
       "      <td>13.0</td>\n",
       "      <td>2</td>\n",
       "      <td>10</td>\n",
       "      <td>0</td>\n",
       "      <td>2017-07-26 10:30:00</td>\n",
       "      <td>0.133333</td>\n",
       "      <td>0.145994</td>\n",
       "      <td>0.012661</td>\n",
       "      <td>9.495718</td>\n",
       "      <td>0.000160</td>\n",
       "    </tr>\n",
       "    <tr>\n",
       "      <th>2017-07-26 10:00:00</th>\n",
       "      <td>1005</td>\n",
       "      <td>2.0</td>\n",
       "      <td>8.0</td>\n",
       "      <td>2</td>\n",
       "      <td>10</td>\n",
       "      <td>0</td>\n",
       "      <td>2017-07-26 10:30:00</td>\n",
       "      <td>0.300000</td>\n",
       "      <td>0.227014</td>\n",
       "      <td>-0.072986</td>\n",
       "      <td>24.328576</td>\n",
       "      <td>0.005327</td>\n",
       "    </tr>\n",
       "    <tr>\n",
       "      <th>2017-07-26 10:00:00</th>\n",
       "      <td>1006</td>\n",
       "      <td>2.0</td>\n",
       "      <td>19.0</td>\n",
       "      <td>2</td>\n",
       "      <td>10</td>\n",
       "      <td>0</td>\n",
       "      <td>2017-07-26 10:30:00</td>\n",
       "      <td>0.047619</td>\n",
       "      <td>0.109391</td>\n",
       "      <td>0.061772</td>\n",
       "      <td>129.721656</td>\n",
       "      <td>0.003816</td>\n",
       "    </tr>\n",
       "    <tr>\n",
       "      <th>2017-07-26 10:00:00</th>\n",
       "      <td>1012</td>\n",
       "      <td>16.0</td>\n",
       "      <td>4.0</td>\n",
       "      <td>2</td>\n",
       "      <td>10</td>\n",
       "      <td>0</td>\n",
       "      <td>2017-07-26 10:30:00</td>\n",
       "      <td>0.850000</td>\n",
       "      <td>0.782759</td>\n",
       "      <td>-0.067241</td>\n",
       "      <td>7.910733</td>\n",
       "      <td>0.004521</td>\n",
       "    </tr>\n",
       "    <tr>\n",
       "      <th>2017-07-26 10:00:00</th>\n",
       "      <td>1013</td>\n",
       "      <td>3.0</td>\n",
       "      <td>8.0</td>\n",
       "      <td>2</td>\n",
       "      <td>10</td>\n",
       "      <td>0</td>\n",
       "      <td>2017-07-26 10:30:00</td>\n",
       "      <td>0.181818</td>\n",
       "      <td>0.282898</td>\n",
       "      <td>0.101080</td>\n",
       "      <td>55.593921</td>\n",
       "      <td>0.010217</td>\n",
       "    </tr>\n",
       "    <tr>\n",
       "      <th>2017-07-26 10:00:00</th>\n",
       "      <td>1016</td>\n",
       "      <td>2.0</td>\n",
       "      <td>15.0</td>\n",
       "      <td>2</td>\n",
       "      <td>10</td>\n",
       "      <td>0</td>\n",
       "      <td>2017-07-26 10:30:00</td>\n",
       "      <td>0.147059</td>\n",
       "      <td>0.133801</td>\n",
       "      <td>-0.013258</td>\n",
       "      <td>9.015169</td>\n",
       "      <td>0.000176</td>\n",
       "    </tr>\n",
       "    <tr>\n",
       "      <th>2017-07-26 10:00:00</th>\n",
       "      <td>1020</td>\n",
       "      <td>1.0</td>\n",
       "      <td>17.0</td>\n",
       "      <td>2</td>\n",
       "      <td>10</td>\n",
       "      <td>0</td>\n",
       "      <td>2017-07-26 10:30:00</td>\n",
       "      <td>0.055556</td>\n",
       "      <td>0.079889</td>\n",
       "      <td>0.024333</td>\n",
       "      <td>43.799716</td>\n",
       "      <td>0.000592</td>\n",
       "    </tr>\n",
       "    <tr>\n",
       "      <th>2017-07-26 10:00:00</th>\n",
       "      <td>1021</td>\n",
       "      <td>7.0</td>\n",
       "      <td>4.0</td>\n",
       "      <td>2</td>\n",
       "      <td>10</td>\n",
       "      <td>0</td>\n",
       "      <td>2017-07-26 10:30:00</td>\n",
       "      <td>0.909091</td>\n",
       "      <td>0.614802</td>\n",
       "      <td>-0.294289</td>\n",
       "      <td>32.371760</td>\n",
       "      <td>0.086606</td>\n",
       "    </tr>\n",
       "  </tbody>\n",
       "</table>\n",
       "</div>"
      ],
      "text/plain": [
       "                     station  bikes  stands  day  hour  minute  \\\n",
       "ts                                                               \n",
       "2017-07-26 10:00:00     1001    2.0    14.0    2    10       0   \n",
       "2017-07-26 10:00:00     1002    8.0    14.0    2    10       0   \n",
       "2017-07-26 10:00:00     1003    2.0    13.0    2    10       0   \n",
       "2017-07-26 10:00:00     1005    2.0     8.0    2    10       0   \n",
       "2017-07-26 10:00:00     1006    2.0    19.0    2    10       0   \n",
       "2017-07-26 10:00:00     1012   16.0     4.0    2    10       0   \n",
       "2017-07-26 10:00:00     1013    3.0     8.0    2    10       0   \n",
       "2017-07-26 10:00:00     1016    2.0    15.0    2    10       0   \n",
       "2017-07-26 10:00:00     1020    1.0    17.0    2    10       0   \n",
       "2017-07-26 10:00:00     1021    7.0     4.0    2    10       0   \n",
       "\n",
       "                              ts_future  observation  prediction     error  \\\n",
       "ts                                                                           \n",
       "2017-07-26 10:00:00 2017-07-26 10:30:00     0.375000    0.140736 -0.234264   \n",
       "2017-07-26 10:00:00 2017-07-26 10:30:00     0.255814    0.358517  0.102703   \n",
       "2017-07-26 10:00:00 2017-07-26 10:30:00     0.133333    0.145994  0.012661   \n",
       "2017-07-26 10:00:00 2017-07-26 10:30:00     0.300000    0.227014 -0.072986   \n",
       "2017-07-26 10:00:00 2017-07-26 10:30:00     0.047619    0.109391  0.061772   \n",
       "2017-07-26 10:00:00 2017-07-26 10:30:00     0.850000    0.782759 -0.067241   \n",
       "2017-07-26 10:00:00 2017-07-26 10:30:00     0.181818    0.282898  0.101080   \n",
       "2017-07-26 10:00:00 2017-07-26 10:30:00     0.147059    0.133801 -0.013258   \n",
       "2017-07-26 10:00:00 2017-07-26 10:30:00     0.055556    0.079889  0.024333   \n",
       "2017-07-26 10:00:00 2017-07-26 10:30:00     0.909091    0.614802 -0.294289   \n",
       "\n",
       "                     relative_error  quad_error  \n",
       "ts                                               \n",
       "2017-07-26 10:00:00       62.470392    0.054880  \n",
       "2017-07-26 10:00:00       40.147679    0.010548  \n",
       "2017-07-26 10:00:00        9.495718    0.000160  \n",
       "2017-07-26 10:00:00       24.328576    0.005327  \n",
       "2017-07-26 10:00:00      129.721656    0.003816  \n",
       "2017-07-26 10:00:00        7.910733    0.004521  \n",
       "2017-07-26 10:00:00       55.593921    0.010217  \n",
       "2017-07-26 10:00:00        9.015169    0.000176  \n",
       "2017-07-26 10:00:00       43.799716    0.000592  \n",
       "2017-07-26 10:00:00       32.371760    0.086606  "
      ]
     },
     "execution_count": 62,
     "metadata": {},
     "output_type": "execute_result"
    }
   ],
   "source": [
    "result.head(10)"
   ]
  },
  {
   "cell_type": "markdown",
   "metadata": {},
   "source": [
    "## Some maps"
   ]
  },
  {
   "cell_type": "markdown",
   "metadata": {},
   "source": [
    "CSV file with station coordinates"
   ]
  },
  {
   "cell_type": "code",
   "execution_count": null,
   "metadata": {
    "collapsed": true
   },
   "outputs": [],
   "source": [
    "locations = pd.read_csv(\"../data/lyon-stations.csv\")"
   ]
  },
  {
   "cell_type": "code",
   "execution_count": null,
   "metadata": {
    "collapsed": true
   },
   "outputs": [],
   "source": [
    "locations.shape"
   ]
  },
  {
   "cell_type": "markdown",
   "metadata": {},
   "source": [
    "Some stations were removed when the data were cleaned up. Remove them from the location data."
   ]
  },
  {
   "cell_type": "code",
   "execution_count": null,
   "metadata": {
    "collapsed": true
   },
   "outputs": [],
   "source": [
    "mask = locations['idstation'].isin(result.station.unique())"
   ]
  },
  {
   "cell_type": "code",
   "execution_count": null,
   "metadata": {
    "collapsed": true
   },
   "outputs": [],
   "source": [
    "mask.sum()"
   ]
  },
  {
   "cell_type": "code",
   "execution_count": null,
   "metadata": {
    "collapsed": true
   },
   "outputs": [],
   "source": [
    "locations = locations[mask]"
   ]
  },
  {
   "cell_type": "code",
   "execution_count": null,
   "metadata": {
    "collapsed": true
   },
   "outputs": [],
   "source": [
    "locations = locations.rename_axis({'idstation': 'station'}, axis=1)"
   ]
  },
  {
   "cell_type": "code",
   "execution_count": null,
   "metadata": {
    "collapsed": true
   },
   "outputs": [],
   "source": [
    "locations.head()"
   ]
  },
  {
   "cell_type": "markdown",
   "metadata": {},
   "source": [
    "Some station names contains the `'` character. Replace it by the HTML code for folium."
   ]
  },
  {
   "cell_type": "code",
   "execution_count": null,
   "metadata": {
    "collapsed": true
   },
   "outputs": [],
   "source": [
    "locations[\"nom\"] = locations['nom'].str.replace(\"'\", \"&apos;\")"
   ]
  },
  {
   "cell_type": "markdown",
   "metadata": {},
   "source": [
    "Select the prediction data for a specific timestamp"
   ]
  },
  {
   "cell_type": "code",
   "execution_count": null,
   "metadata": {
    "collapsed": true
   },
   "outputs": [],
   "source": [
    "data_to_plot = result.loc[predict_date]"
   ]
  },
  {
   "cell_type": "code",
   "execution_count": null,
   "metadata": {
    "collapsed": true
   },
   "outputs": [],
   "source": [
    "data_to_plot.shape"
   ]
  },
  {
   "cell_type": "code",
   "execution_count": null,
   "metadata": {
    "collapsed": true
   },
   "outputs": [],
   "source": [
    "data_to_plot.head()"
   ]
  },
  {
   "cell_type": "code",
   "execution_count": null,
   "metadata": {
    "collapsed": true
   },
   "outputs": [],
   "source": [
    "yhat = data_to_plot[['station', 'prediction']].merge(locations, on='station')\n",
    "yhat.head()"
   ]
  },
  {
   "cell_type": "code",
   "execution_count": null,
   "metadata": {
    "collapsed": true
   },
   "outputs": [],
   "source": [
    "y = data_to_plot[['station', 'observation']].merge(locations, on='station')"
   ]
  },
  {
   "cell_type": "code",
   "execution_count": null,
   "metadata": {
    "collapsed": true
   },
   "outputs": [],
   "source": [
    "error = data_to_plot[['station', 'error']].merge(locations, on='station')"
   ]
  },
  {
   "cell_type": "code",
   "execution_count": null,
   "metadata": {
    "collapsed": true
   },
   "outputs": [],
   "source": [
    "colormap = 'RdYlBu'\n",
    "cmap = plt.get_cmap(colormap)"
   ]
  },
  {
   "cell_type": "markdown",
   "metadata": {},
   "source": [
    "See \n",
    "\n",
    "* https://matplotlib.org/examples/color/colormaps_reference.html\n",
    "* https://matplotlib.org/api/colors_api.html"
   ]
  },
  {
   "cell_type": "code",
   "execution_count": null,
   "metadata": {
    "collapsed": true
   },
   "outputs": [],
   "source": [
    "# show the colormap use to plot the stations, values [0, 1]\n",
    "gradient = np.linspace(0, 1, 256)\n",
    "gradient = np.vstack((gradient, gradient))\n",
    "fig, ax = plt.subplots(1)\n",
    "fig.subplots_adjust(top=0.95, bottom=0.80, left=0.2, right=0.99)\n",
    "ax.set_xticks([0., 64, 128, 192, 256])\n",
    "ax.set_xticklabels([0., 0.25, 0.5, 0.75, 1.])\n",
    "ax.set_xlabel('Bikes Availability')\n",
    "ax.imshow(gradient, aspect='auto', cmap=cmap, vmin=0, vmax=1)\n",
    "plt.title('Colormap used to plot stations')"
   ]
  },
  {
   "cell_type": "markdown",
   "metadata": {},
   "source": [
    "* Red stations if there are 0 or a few available bikes\n",
    "* Blue stations if there are several available bikes"
   ]
  },
  {
   "cell_type": "code",
   "execution_count": null,
   "metadata": {
    "collapsed": true
   },
   "outputs": [],
   "source": [
    "color = lambda x: mpl.colors.to_hex(cmap(x))"
   ]
  },
  {
   "cell_type": "code",
   "execution_count": null,
   "metadata": {
    "collapsed": true
   },
   "outputs": [],
   "source": [
    "# Lyon (France) Position\n",
    "position = [45.750000, 4.850000]"
   ]
  },
  {
   "cell_type": "code",
   "execution_count": null,
   "metadata": {
    "collapsed": true
   },
   "outputs": [],
   "source": [
    "mp_pred = folium.Map(location=position, zoom_start=13, tiles='cartodbpositron')"
   ]
  },
  {
   "cell_type": "code",
   "execution_count": null,
   "metadata": {
    "collapsed": true
   },
   "outputs": [],
   "source": [
    "# Map of the predicted values\n",
    "for _,row in yhat.iterrows():\n",
    "    folium.CircleMarker(\n",
    "        location=[row['lat'], row['lon']],\n",
    "        radius=2,\n",
    "        popup=row['nom'],\n",
    "        color=color(row['prediction']),\n",
    "        fill=True,\n",
    "        fill_opacity=0.3,\n",
    "        fill_color=color(row['prediction'])\n",
    "    ).add_to(mp_pred)"
   ]
  },
  {
   "cell_type": "code",
   "execution_count": null,
   "metadata": {
    "collapsed": true
   },
   "outputs": [],
   "source": [
    "mp_pred"
   ]
  },
  {
   "cell_type": "code",
   "execution_count": null,
   "metadata": {
    "collapsed": true
   },
   "outputs": [],
   "source": [
    "# Map for the observation\n",
    "mp_obs = folium.Map(location=position, zoom_start=13, tiles='cartodbpositron')"
   ]
  },
  {
   "cell_type": "code",
   "execution_count": null,
   "metadata": {
    "collapsed": true
   },
   "outputs": [],
   "source": [
    "# Map of the observations\n",
    "for _,row in y.iterrows():\n",
    "    folium.CircleMarker(\n",
    "        location=[row['lat'], row['lon']],\n",
    "        radius=2,\n",
    "        popup=row['nom'],\n",
    "        color=color(row['observation']),\n",
    "        fill=True,\n",
    "        fill_opacity=0.3,\n",
    "        fill_color=color(row['observation'])\n",
    "    ).add_to(mp_obs)"
   ]
  },
  {
   "cell_type": "code",
   "execution_count": null,
   "metadata": {
    "collapsed": true
   },
   "outputs": [],
   "source": [
    "mp_obs"
   ]
  },
  {
   "cell_type": "code",
   "execution_count": null,
   "metadata": {
    "collapsed": true
   },
   "outputs": [],
   "source": [
    "# Colormap for error (by default, the color map fits for [0, 1] values)\n",
    "norm = mpl.colors.Normalize(vmin=-1, vmax=1)\n",
    "color_error = lambda x: mpl.colors.to_hex(cmap(norm(x)))"
   ]
  },
  {
   "cell_type": "code",
   "execution_count": null,
   "metadata": {
    "collapsed": true
   },
   "outputs": [],
   "source": [
    "# Map for the errors\n",
    "mp_error = folium.Map(location=position, zoom_start=13, tiles='cartodbpositron')"
   ]
  },
  {
   "cell_type": "code",
   "execution_count": null,
   "metadata": {
    "collapsed": true
   },
   "outputs": [],
   "source": [
    "# Map of the errors\n",
    "for _,row in error.iterrows():\n",
    "    folium.CircleMarker(\n",
    "        location=[row['lat'], row['lon']],\n",
    "        radius=2,\n",
    "        popup=row['nom'],\n",
    "        color=color_error(row['error']),\n",
    "        fill=True,\n",
    "        fill_opacity=0.3,\n",
    "        fill_color=color_error(row['error'])\n",
    "    ).add_to(mp_error)"
   ]
  },
  {
   "cell_type": "code",
   "execution_count": null,
   "metadata": {
    "collapsed": true
   },
   "outputs": [],
   "source": [
    "mp_error"
   ]
  }
 ],
 "metadata": {
  "kernelspec": {
   "display_name": "Python 3",
   "language": "python",
   "name": "python3"
  },
  "language_info": {
   "codemirror_mode": {
    "name": "ipython",
    "version": 3
   },
   "file_extension": ".py",
   "mimetype": "text/x-python",
   "name": "python",
   "nbconvert_exporter": "python",
   "pygments_lexer": "ipython3",
   "version": "3.5.2"
  }
 },
 "nbformat": 4,
 "nbformat_minor": 2
}
